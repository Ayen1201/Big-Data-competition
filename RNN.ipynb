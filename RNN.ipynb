{
 "cells": [
  {
   "cell_type": "code",
   "execution_count": 1,
   "metadata": {},
   "outputs": [
    {
     "name": "stderr",
     "output_type": "stream",
     "text": [
      "/Users/ayen/anaconda3/lib/python3.6/site-packages/h5py/__init__.py:36: FutureWarning: Conversion of the second argument of issubdtype from `float` to `np.floating` is deprecated. In future, it will be treated as `np.float64 == np.dtype(float).type`.\n",
      "  from ._conv import register_converters as _register_converters\n",
      "Using TensorFlow backend.\n"
     ]
    }
   ],
   "source": [
    "import keras\n",
    "from keras.models import Sequential\n",
    "from keras.layers import Dense, Dropout, Flatten, Activation, LSTM, TimeDistributed\n",
    "from keras.optimizers import adam"
   ]
  },
  {
   "cell_type": "code",
   "execution_count": 2,
   "metadata": {},
   "outputs": [],
   "source": [
    "import numpy as np\n",
    "import pandas as pd"
   ]
  },
  {
   "cell_type": "code",
   "execution_count": 3,
   "metadata": {},
   "outputs": [],
   "source": [
    "X_train = np.zeros((20, 7500, 4))\n",
    "\n",
    "for x in range(0,19):\n",
    "    X_train[x] = pd.read_excel('{num}.xls'.format(num = x)).drop('Col5',axis=1).values\n"
   ]
  },
  {
   "cell_type": "code",
   "execution_count": 4,
   "metadata": {},
   "outputs": [
    {
     "data": {
      "text/plain": [
       "(20, 7500, 4)"
      ]
     },
     "execution_count": 4,
     "metadata": {},
     "output_type": "execute_result"
    }
   ],
   "source": [
    "X_train.shape"
   ]
  },
  {
   "cell_type": "code",
   "execution_count": 5,
   "metadata": {},
   "outputs": [],
   "source": [
    "X_test = np.zeros((20,7500,4))\n",
    "\n",
    "for x in range(20,39):\n",
    "    X_test[x-20] = pd.read_excel('{num}.xls'.format(num = x)).drop('Col5',axis=1).values\n"
   ]
  },
  {
   "cell_type": "code",
   "execution_count": 6,
   "metadata": {},
   "outputs": [
    {
     "data": {
      "text/plain": [
       "(20, 7500, 4)"
      ]
     },
     "execution_count": 6,
     "metadata": {},
     "output_type": "execute_result"
    }
   ],
   "source": [
    "X_test.shape"
   ]
  },
  {
   "cell_type": "code",
   "execution_count": 7,
   "metadata": {},
   "outputs": [],
   "source": [
    "Ydata = np.array([0.490, 0.306, 0.418, 0.504, 0.499, 0.848, 0.654, 0.473, 0.453, 0.399, \n",
    "                  0.551, 0.425, 0.588, 0.747, 0.443, 0.324, 0.571, 0.667, 0.554, 0.705,\n",
    "                  0.926, 0.492, 0.715, 0.647, 0.626, 0.743, 1.110, 1.073, 0.684, 0.347,\n",
    "                  0.636, 0.331, 0.574, 0.473, 0.370, 0.563, 0.845, 0.928, 0.418, 0.404]).reshape(-1,1)"
   ]
  },
  {
   "cell_type": "code",
   "execution_count": 8,
   "metadata": {},
   "outputs": [],
   "source": [
    "Y_train = Ydata[0:20]\n",
    "Y_test = Ydata[20:40]"
   ]
  },
  {
   "cell_type": "code",
   "execution_count": 9,
   "metadata": {},
   "outputs": [
    {
     "data": {
      "text/plain": [
       "(20, 1)"
      ]
     },
     "execution_count": 9,
     "metadata": {},
     "output_type": "execute_result"
    }
   ],
   "source": [
    "Y_train.shape"
   ]
  },
  {
   "cell_type": "code",
   "execution_count": 10,
   "metadata": {},
   "outputs": [
    {
     "data": {
      "text/plain": [
       "(20, 1)"
      ]
     },
     "execution_count": 10,
     "metadata": {},
     "output_type": "execute_result"
    }
   ],
   "source": [
    "Y_test.shape"
   ]
  },
  {
   "cell_type": "code",
   "execution_count": 11,
   "metadata": {},
   "outputs": [],
   "source": [
    "model = Sequential()\n",
    "model.add(LSTM(20,\n",
    "    batch_input_shape=(20, 7500, 4),\n",
    "    return_sequences=False\n",
    "))"
   ]
  },
  {
   "cell_type": "code",
   "execution_count": 13,
   "metadata": {},
   "outputs": [],
   "source": [
    "model.add(Dense(1))\n",
    "model.compile(optimizer='adam',loss='mse')"
   ]
  },
  {
   "cell_type": "code",
   "execution_count": null,
   "metadata": {},
   "outputs": [
    {
     "name": "stdout",
     "output_type": "stream",
     "text": [
      "Train on 20 samples, validate on 20 samples\n",
      "Epoch 1/100\n",
      "20/20 [==============================] - 4s 206ms/step - loss: 0.2411 - val_loss: 0.3868\n",
      "Epoch 2/100\n",
      "20/20 [==============================] - 4s 207ms/step - loss: 0.2337 - val_loss: 0.3772\n",
      "Epoch 3/100\n",
      "20/20 [==============================] - 4s 208ms/step - loss: 0.2261 - val_loss: 0.3672\n",
      "Epoch 4/100\n",
      "20/20 [==============================] - 4s 206ms/step - loss: 0.2181 - val_loss: 0.3566\n",
      "Epoch 5/100\n",
      "20/20 [==============================] - 4s 207ms/step - loss: 0.2096 - val_loss: 0.3455\n",
      "Epoch 6/100\n",
      "20/20 [==============================] - 4s 203ms/step - loss: 0.2009 - val_loss: 0.3339\n",
      "Epoch 7/100\n",
      "20/20 [==============================] - 4s 198ms/step - loss: 0.1917 - val_loss: 0.3215\n",
      "Epoch 8/100\n",
      "20/20 [==============================] - 4s 213ms/step - loss: 0.1820 - val_loss: 0.3084\n",
      "Epoch 9/100\n",
      "20/20 [==============================] - 4s 208ms/step - loss: 0.1719 - val_loss: 0.2945\n",
      "Epoch 10/100\n",
      "20/20 [==============================] - 4s 207ms/step - loss: 0.1611 - val_loss: 0.2797\n",
      "Epoch 11/100\n",
      "20/20 [==============================] - 4s 205ms/step - loss: 0.1498 - val_loss: 0.2639\n",
      "Epoch 12/100\n",
      "20/20 [==============================] - 4s 204ms/step - loss: 0.1379 - val_loss: 0.2470\n",
      "Epoch 13/100\n",
      "20/20 [==============================] - 4s 206ms/step - loss: 0.1253 - val_loss: 0.2289\n",
      "Epoch 14/100\n",
      "20/20 [==============================] - 4s 202ms/step - loss: 0.1120 - val_loss: 0.2095\n",
      "Epoch 15/100\n",
      "20/20 [==============================] - 4s 208ms/step - loss: 0.0980 - val_loss: 0.1887\n",
      "Epoch 16/100\n",
      "20/20 [==============================] - 4s 188ms/step - loss: 0.0834 - val_loss: 0.1665\n",
      "Epoch 17/100\n",
      "20/20 [==============================] - 4s 203ms/step - loss: 0.0684 - val_loss: 0.1428\n",
      "Epoch 18/100\n",
      "20/20 [==============================] - 4s 204ms/step - loss: 0.0532 - val_loss: 0.1182\n",
      "Epoch 19/100\n",
      "20/20 [==============================] - 4s 196ms/step - loss: 0.0387 - val_loss: 0.0933\n",
      "Epoch 20/100\n",
      "20/20 [==============================] - 4s 214ms/step - loss: 0.0263 - val_loss: 0.0706\n",
      "Epoch 21/100\n",
      "20/20 [==============================] - 4s 210ms/step - loss: 0.0190 - val_loss: 0.0552\n",
      "Epoch 22/100\n",
      "20/20 [==============================] - 4s 205ms/step - loss: 0.0226 - val_loss: 0.0532\n",
      "Epoch 23/100\n",
      "20/20 [==============================] - 4s 197ms/step - loss: 0.0376 - val_loss: 0.0547\n",
      "Epoch 24/100\n",
      "20/20 [==============================] - 4s 205ms/step - loss: 0.0443 - val_loss: 0.0535\n",
      "Epoch 25/100\n",
      "20/20 [==============================] - 4s 206ms/step - loss: 0.0396 - val_loss: 0.0526\n",
      "Epoch 26/100\n",
      "20/20 [==============================] - 4s 205ms/step - loss: 0.0311 - val_loss: 0.0543\n",
      "Epoch 27/100\n",
      "20/20 [==============================] - 4s 196ms/step - loss: 0.0240 - val_loss: 0.0585\n",
      "Epoch 28/100\n",
      "20/20 [==============================] - 4s 203ms/step - loss: 0.0200 - val_loss: 0.0641\n",
      "Epoch 29/100\n",
      "20/20 [==============================] - 4s 209ms/step - loss: 0.0187 - val_loss: 0.0702\n",
      "Epoch 30/100\n",
      "20/20 [==============================] - 4s 206ms/step - loss: 0.0189 - val_loss: 0.0758\n",
      "Epoch 31/100\n",
      "20/20 [==============================] - 4s 190ms/step - loss: 0.0201 - val_loss: 0.0805\n",
      "Epoch 32/100\n"
     ]
    }
   ],
   "source": [
    "model.fit(X_train, Y_train, epochs=100, validation_data=(X_test, Y_test), batch_size=20)"
   ]
  },
  {
   "cell_type": "code",
   "execution_count": null,
   "metadata": {},
   "outputs": [],
   "source": [
    "score = model.evaluate(X_train, Y_train, batch_size=20)\n",
    "test_data = model.predict(X_test, batch_size=20)\n",
    "print (test_data)\n",
    "print (score)"
   ]
  },
  {
   "cell_type": "code",
   "execution_count": null,
   "metadata": {},
   "outputs": [],
   "source": [
    "model.summary()"
   ]
  },
  {
   "cell_type": "code",
   "execution_count": null,
   "metadata": {},
   "outputs": [],
   "source": []
  }
 ],
 "metadata": {
  "kernelspec": {
   "display_name": "Python 3",
   "language": "python",
   "name": "python3"
  },
  "language_info": {
   "codemirror_mode": {
    "name": "ipython",
    "version": 3
   },
   "file_extension": ".py",
   "mimetype": "text/x-python",
   "name": "python",
   "nbconvert_exporter": "python",
   "pygments_lexer": "ipython3",
   "version": "3.6.4"
  }
 },
 "nbformat": 4,
 "nbformat_minor": 2
}
